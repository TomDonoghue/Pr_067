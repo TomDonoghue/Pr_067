{
 "cells": [
  {
   "cell_type": "markdown",
   "metadata": {},
   "source": [
    "### Research Question\n",
    "\n",
    "What is your research question? (1-2 sentences)"
   ]
  },
  {
   "cell_type": "markdown",
   "metadata": {},
   "source": [
    "Can we accurately predict how many seasons it takes for an NBA rookie shooting guard to reach his  prime? And can we predict how long their career will last in the league?"
   ]
  },
  {
   "cell_type": "markdown",
   "metadata": {},
   "source": [
    "### Hypothesis\n",
    "\n",
    "What is your prediction (2-3 sentences)"
   ]
  },
  {
   "cell_type": "markdown",
   "metadata": {},
   "source": [
    "Using PTS, REB, AST, STL, BLK, FGA, FGM, FTA, FTM, TO, minutes played, as well as the teams a rookie plays on we will create a rating of performance that can accurately predict when an NBA rookie will breakout. We predict that rookies will take 4-6 years to breakout, and that our rating as well as the NBA player efficiency rating will reflect that."
   ]
  },
  {
   "cell_type": "markdown",
   "metadata": {},
   "source": [
    "### Dataset(s)\n",
    "\n",
    "What data will you use to answer your question? Describe the dataset in terms of number of observations, what kind of features it contains, etc. You must use at least one dataset containing at least approximately 1000 observations (if your data are smaller but you feel they are sufficient, email Prof. Voytek). You are welcome (and in fact recommended) to find multiple datasets! If you do so, describe each one, and briefly explain how you will combine them together. "
   ]
  },
  {
   "cell_type": "markdown",
   "metadata": {},
   "source": [
    "- Dataset Name: NBA Player Data (1978-2016)\n",
    "- Link to the dataset: https://data.world/jgrosz99/nba-player-data-1978-2016\n",
    "- Number of observations: 17,729\n",
    "- NBA player data from 1978-2016 which includes player stats, team, age, games played, etc. \n",
    "***\n",
    "- Dataset Name: 1976 to 2015 nba draft data\n",
    "- Link to the dataset: https://data.world/rvino88/1976-to-2015-nba-draft-data\n",
    "- Number of observations: 3,961\n",
    "- NBA Draft picks from 1976 to 2015, includes draft year, team drafted by, games played, years, and more player stats \n",
    "***\n",
    "- Dataset Name: NBA Rookies by Min  (1980-2016)\n",
    "- Link to the dataset: https://data.world/gmoney/nba-rookies-by-min-1980-2016\n",
    "- Number of observations: 1538 \n",
    "- NBA rookie data from 1980 - 2016 that displays minutes played and other statistics.\n",
    "***\n",
    "- Dataset Name: NBA Team Records by Year \n",
    "- Link to the dataset:  https://data.world/gmoney/nba-team-records-by-year\n",
    "- Number of observations: 1418\n",
    "- All NBA teams’ win-loss records from 1961-2016.\n",
    "***\n",
    "Using player statistics from ‘NBA Player Data (1978-2016)’ and ‘Dataset Name: NBA Rookies by Min  (1980-2016)’, we plan to concatenate the data so player statistics will also include minutes played. From there, we plan to only include players picked top 20 in each year’s draft from ‘1976 to 2015 nba draft data. Depending  on when a player reaches his “prime,” we’ll use a team’s win percentage ’NBA Team Records by Year’ to determine how efficient a player is. "
   ]
  },
  {
   "cell_type": "markdown",
   "metadata": {},
   "source": [
    "### Background & Prior Work\n",
    "\n",
    "Why is this question of interest, what background information led you to your hypothesis, and why is this important?\n",
    "\n",
    "Find some relevant prior work, and reference them. Even if you think you have a totally novel question, find the most similar prior work you can, and discuss how it relates to your project. \n",
    "\n",
    "References can be research publications, but they need not be: blogs, github repositories, company websites, etc., are viable references if they are relevant to your project.\n",
    "\n",
    "(2-3 paragraphs, including at least 2 references)"
   ]
  },
  {
   "cell_type": "markdown",
   "metadata": {},
   "source": [
    "***\n",
    "The question is of interest because it will help us better speculate what players to keep an eye on, and whether NBA rookie statistics can be extrapolated to analyse when a rookie will breakout. Personal background includes our experience as being fans of the sport of basketball and our support for the NBA. We have watched more than five seasons of basketball and have witnessed rookies reach a breakout. We have absorbed knowledge from analysts and other sports media that makes us believe, with our experience, we feel confident in predicting rookie breakout in 4-6 years. By analyzing the statistics of NBA players, we can begin to see how the game of basketball has changed over the years and how statistics have changed. \n",
    "***\n",
    "1) http://www.danielforsyth.me/exploring_nba_data_in_python/\n",
    "The article uses python to display information on every shot a player took during game. For a shooting guard, more space between defenders means the guard is more likely to take a shot.  A higher touch time would result in more shots.\n",
    "***\n",
    "2) https://fivethirtyeight.com/features/how-were-predicting-nba-player-career/\n",
    "The article discusses NBA player career projections, which also include Rookie projections using a linear regression model. We also plan to create a prediction model for NBA careers.\n",
    "***\n",
    "3) https://arxiv.org/ftp/arxiv/papers/1511/1511.05837.pdf\n",
    "The article highlights anomalous years and creates an algorithm that predicts growth of cricket players, a relatable sport. The data showed an average initial decline, and evidence of growth after 3-4 seasons, thus supporting our hypothesis that an NBA player will break out between 4-6 seasons. "
   ]
  },
  {
   "cell_type": "markdown",
   "metadata": {},
   "source": [
    "### Proposed Methods\n",
    "\n",
    "What methods will you use to analyze your data?\n",
    "\n",
    "- How 'clean' is the data? To the extent that it requires cleaning, how will you do so?\n",
    "- How will you analyze the data? Be as specific as you can. Briefly mention any pre-processing steps that are required for your methods (for example, checking data distributions and performing any transformations that may be required). Include a brief outline of how you will apply your chosen method(s). \n",
    "- What do you plan to report? Briefly mention any key visualizations you plan to create, and/or the kind of result you will be able to report that addresses your question (this could be, for example, the outcome of some statistical test(s), prediction error on a model, a model fit parameter, etc.).\n",
    "- Include a list of packages you expect to use for you project. If you plan to use packages we have not used in class, add a very brief description about them (a few words is sufficient). "
   ]
  },
  {
   "cell_type": "markdown",
   "metadata": {},
   "source": [
    "*Fill in your proposed methods information here:*\n",
    "\n",
    "*Data Cleaning (2-3 sentences)*\n",
    "- The data is relatively clean, but we will need to strip the data of statistics that will not be used in our prediction measurements. We do not expect there to be any null values within the datasets, but will check just to make sure that all of our datasets are clean.\n",
    "- All datasets are CSV files which are formatted and easily readable. \n",
    "\n",
    "*Data Analysis (1-2 paragraphs)*\n",
    "- We want to analyze earlier seasons guard players statistics, putting a focus on statistics like PTS, REB, AST, STL,  BLK, FGA, FGM, FTA, FTM, TO, age, physical condition, minutes played, as well as the teams they play on. Using this data we want to try to understand the connection between the statistic and the players outbreak, and use that relationship to try to predict the outbreak of newer rookies. We plan on utilizing matplotlib.pyplot in order to display bar graphs for the different categories. Line graphs will be used to predict when a player will break out and how long he is expected to play.\n",
    "\n",
    "*What to report (2-3 sentences)*\n",
    "- Predicted players growth and improvement, estimated breakout data. When defined rookies begin to make a shift in their career that will show the outbreak in their performance. As well as a prediction for how many years the player will play for, and a prediction of his performance during that time. \n",
    "\n",
    "Packages we plan to use:\n",
    "- A: pandas\n",
    "- B: numpy\n",
    "- C: nba_py\n",
    "- D: matplotlib.pyplot"
   ]
  },
  {
   "cell_type": "markdown",
   "metadata": {},
   "source": [
    "### Discussion\n",
    "\n",
    "What are the pitfalls and potential confounds of your data and/or methods? For example, how might biases in your data sources or analyses influence your interpretations? What will you do if you methods don't work and/or your hypotheses are wrong?\n"
   ]
  },
  {
   "cell_type": "markdown",
   "metadata": {},
   "source": [
    "- This project obviously cannot  accurately measure the potential breakout season of every shooting guard. Off the field issues, intangibles, organization, and many more factors are to be  taken account when judging a player’s skill. Stats cannot and will never tell the whole story. The data we’re using is all about the player’s past performances, and using them to predict future play, however external events, eg. injury, can affect the player’s growth and eventual outbreak. However, we  would be unable to predict the occurrence of such developments, and so we will not be taking them into account in our predictions. \n",
    "\n",
    "- There are no biases in the data sources at all since the the statistics are hard numbers over the course of many games. Because we're weighing some stats more than others, a player's efficiency rating might not even truly be indicative of when a player is in their prime. This leads back to the idea that stats don't tell the whole story. The only statistic with any level of bias is efficiency rating. This stat was created by the NBA as an algorithm to calculate a player’s performance based on multiple measurements. We are using this statistic as a comparison and believe it is still very accurate.\n",
    "\n",
    "- If we do  encounter errors in our methods, then we will try to understand why our previous assumptions were incorrect, and try to correct how we interpret the data. Because we are determining when a player reaches his “prime,” an incorrect hypothesis would not be  all too devastating. A player could have an  incredible  efficiency rating and amazing statistics, but could  still be overshadowed by  other players on his team. We’re  attempting to transform a  viewer experience into numbers that measure a player, which is unreasonable. "
   ]
  }
 ],
 "metadata": {
  "kernelspec": {
   "display_name": "Python 3",
   "language": "python",
   "name": "python3"
  },
  "language_info": {
   "codemirror_mode": {
    "name": "ipython",
    "version": 3
   },
   "file_extension": ".py",
   "mimetype": "text/x-python",
   "name": "python",
   "nbconvert_exporter": "python",
   "pygments_lexer": "ipython3",
   "version": "3.6.0"
  }
 },
 "nbformat": 4,
 "nbformat_minor": 2
}
